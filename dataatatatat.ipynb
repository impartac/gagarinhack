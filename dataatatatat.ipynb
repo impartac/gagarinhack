{
 "cells": [
  {
   "cell_type": "code",
   "execution_count": 63,
   "metadata": {},
   "outputs": [],
   "source": [
    "import os\n",
    "import cv2\n",
    "from PIL import Image,ImageGrab \n",
    "dir = \"C:\\\\Users\\\\32233\\\\Downloads\\\\documents_detection.v2-no-augmentation-no-resize.yolov8\"\n",
    "for dires  in os.listdir(dir):\n",
    "    pathlab = os.path.join(dir,dires,\"labels\")\n",
    "    pathimg = os.path.join(dir,dires,\"images\")\n",
    "    for names in os.listdir(pathlab):\n",
    "        values = open(os.path.join(pathlab,names))\n",
    "        #print(os.path.join(pathimg,names)[:-4]+\".jpg\")\n",
    "        boxes = values.readlines()\n",
    "        if len(boxes) > 0:\n",
    "            boxes = [boxes[0]]\n",
    "        boxes = [b.split()[1::] for b in boxes]\n",
    "        for i in range(len(boxes)):\n",
    "            for j in range(len(boxes[i])):\n",
    "                boxes[i][j] = float(boxes[i][j])\n",
    "        #print(boxes)\n",
    "        for x,y,w,h in boxes:\n",
    "            img = Image.open(os.path.join(pathimg,names)[:-4]+\".jpg\")\n",
    "            #display(img)\n",
    "            shape = img.size\n",
    "            #print(shape)\n",
    "            coords= ((x-w/2)*shape[0],(y-h/2)*shape[1],(x+w/2)*shape[0],(y+h/2)*shape[1])\n",
    "            #print(coords)\n",
    "            im2 = img.crop(coords) \n",
    "            im2.save(os.path.join(\"C:\\\\Users\\\\32233\\\\PycharmProjects\\\\temp\\\\boxeswithoutall\",dires,names)[:-4]+\".jpg\")\n",
    "            #display(im2)"
   ]
  }
 ],
 "metadata": {
  "kernelspec": {
   "display_name": "tf_env",
   "language": "python",
   "name": "python3"
  },
  "language_info": {
   "codemirror_mode": {
    "name": "ipython",
    "version": 3
   },
   "file_extension": ".py",
   "mimetype": "text/x-python",
   "name": "python",
   "nbconvert_exporter": "python",
   "pygments_lexer": "ipython3",
   "version": "3.8.19"
  }
 },
 "nbformat": 4,
 "nbformat_minor": 2
}
